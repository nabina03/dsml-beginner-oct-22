{
  "nbformat": 4,
  "nbformat_minor": 0,
  "metadata": {
    "colab": {
      "provenance": [],
      "authorship_tag": "ABX9TyNtiEdBX4lmiGVEEqwjwCjG",
      "include_colab_link": true
    },
    "kernelspec": {
      "name": "python3",
      "display_name": "Python 3"
    },
    "language_info": {
      "name": "python"
    }
  },
  "cells": [
    {
      "cell_type": "markdown",
      "metadata": {
        "id": "view-in-github",
        "colab_type": "text"
      },
      "source": [
        "<a href=\"https://colab.research.google.com/github/scaleracademy/dsml-beginner-oct-22/blob/main/Conditional_Statements.ipynb\" target=\"_parent\"><img src=\"https://colab.research.google.com/assets/colab-badge.svg\" alt=\"Open In Colab\"/></a>"
      ]
    },
    {
      "cell_type": "code",
      "execution_count": 1,
      "metadata": {
        "colab": {
          "base_uri": "https://localhost:8080/"
        },
        "id": "wFv_8KwUqTFu",
        "outputId": "3427e0fb-216b-41a1-b184-5f0a7d630355"
      },
      "outputs": [
        {
          "output_type": "execute_result",
          "data": {
            "text/plain": [
              "5"
            ]
          },
          "metadata": {},
          "execution_count": 1
        }
      ],
      "source": [
        "5 * True"
      ]
    },
    {
      "cell_type": "code",
      "source": [
        "5 * False"
      ],
      "metadata": {
        "colab": {
          "base_uri": "https://localhost:8080/"
        },
        "id": "16xr7O6osjUN",
        "outputId": "3898af3b-af8f-476a-9e04-fb175023a784"
      },
      "execution_count": 2,
      "outputs": [
        {
          "output_type": "execute_result",
          "data": {
            "text/plain": [
              "0"
            ]
          },
          "metadata": {},
          "execution_count": 2
        }
      ]
    },
    {
      "cell_type": "code",
      "source": [
        "False * 5"
      ],
      "metadata": {
        "colab": {
          "base_uri": "https://localhost:8080/"
        },
        "id": "YWyVm30xslSB",
        "outputId": "a656782b-550a-4c7d-e47d-8b2ac71a1ebc"
      },
      "execution_count": 3,
      "outputs": [
        {
          "output_type": "execute_result",
          "data": {
            "text/plain": [
              "0"
            ]
          },
          "metadata": {},
          "execution_count": 3
        }
      ]
    },
    {
      "cell_type": "code",
      "source": [
        "a = [1, 2, 3, 4]\n",
        "a.append(5)"
      ],
      "metadata": {
        "id": "THW-71ZcsnwP"
      },
      "execution_count": 4,
      "outputs": []
    },
    {
      "cell_type": "code",
      "source": [
        "a"
      ],
      "metadata": {
        "colab": {
          "base_uri": "https://localhost:8080/"
        },
        "id": "e2c5JTNzsyZx",
        "outputId": "f707a1be-8c2e-46e6-f61c-a62005421a62"
      },
      "execution_count": 5,
      "outputs": [
        {
          "output_type": "execute_result",
          "data": {
            "text/plain": [
              "[1, 2, 3, 4, 5]"
            ]
          },
          "metadata": {},
          "execution_count": 5
        }
      ]
    },
    {
      "cell_type": "code",
      "source": [
        "5 + 6"
      ],
      "metadata": {
        "colab": {
          "base_uri": "https://localhost:8080/"
        },
        "id": "QLvQtaxUs1A8",
        "outputId": "939ea526-fb89-49ea-8df5-1310059ab450"
      },
      "execution_count": 6,
      "outputs": [
        {
          "output_type": "execute_result",
          "data": {
            "text/plain": [
              "11"
            ]
          },
          "metadata": {},
          "execution_count": 6
        }
      ]
    },
    {
      "cell_type": "code",
      "source": [
        "print(5 + 6)"
      ],
      "metadata": {
        "colab": {
          "base_uri": "https://localhost:8080/"
        },
        "id": "yE6pb_HVw_io",
        "outputId": "ea5d0ed7-31c0-4186-c752-5091a8434bae"
      },
      "execution_count": 7,
      "outputs": [
        {
          "output_type": "stream",
          "name": "stdout",
          "text": [
            "11\n"
          ]
        }
      ]
    },
    {
      "cell_type": "code",
      "source": [
        "\"Hello World\""
      ],
      "metadata": {
        "colab": {
          "base_uri": "https://localhost:8080/",
          "height": 35
        },
        "id": "dH-MKBoHxjUj",
        "outputId": "fa360c32-7b25-4e9d-fb88-89d06b64bb5f"
      },
      "execution_count": 8,
      "outputs": [
        {
          "output_type": "execute_result",
          "data": {
            "text/plain": [
              "'Hello World'"
            ],
            "application/vnd.google.colaboratory.intrinsic+json": {
              "type": "string"
            }
          },
          "metadata": {},
          "execution_count": 8
        }
      ]
    },
    {
      "cell_type": "code",
      "source": [
        "\"Hello\"\n",
        "\"World\""
      ],
      "metadata": {
        "colab": {
          "base_uri": "https://localhost:8080/",
          "height": 35
        },
        "id": "moS9gdVgyBLr",
        "outputId": "961590a2-74a1-4e64-e6a1-3756afd0939a"
      },
      "execution_count": 9,
      "outputs": [
        {
          "output_type": "execute_result",
          "data": {
            "text/plain": [
              "'World'"
            ],
            "application/vnd.google.colaboratory.intrinsic+json": {
              "type": "string"
            }
          },
          "metadata": {},
          "execution_count": 9
        }
      ]
    },
    {
      "cell_type": "code",
      "source": [
        "print(\"Hello\")\n",
        "print(\"World\")"
      ],
      "metadata": {
        "colab": {
          "base_uri": "https://localhost:8080/"
        },
        "id": "8hbm0ftGyhkK",
        "outputId": "4172b0cd-9f79-4e68-d863-88e6a87b12da"
      },
      "execution_count": 10,
      "outputs": [
        {
          "output_type": "stream",
          "name": "stdout",
          "text": [
            "Hello\n",
            "World\n"
          ]
        }
      ]
    },
    {
      "cell_type": "markdown",
      "source": [
        "- abc\n",
        "- xyz\n",
        "- def\n",
        "  - 123\n",
        "  - 456\n",
        "- jkl"
      ],
      "metadata": {
        "id": "8C3f4qmK2C1H"
      }
    },
    {
      "cell_type": "code",
      "source": [
        "number = 4\n",
        "\n",
        "if number % 2 == 0:\n",
        "  print(\"The number is even\")\n",
        "\n",
        "print(\"End of program\")"
      ],
      "metadata": {
        "colab": {
          "base_uri": "https://localhost:8080/"
        },
        "id": "j75QveDey4O4",
        "outputId": "4319479e-395a-4290-d378-c302da347dff"
      },
      "execution_count": 13,
      "outputs": [
        {
          "output_type": "stream",
          "name": "stdout",
          "text": [
            "End of program\n"
          ]
        }
      ]
    },
    {
      "cell_type": "code",
      "source": [
        "percentage = float(input())\n",
        "\n",
        "if percentage >= 85:\n",
        "  print(\"Grade A\")\n",
        "\n",
        "elif percentage >= 70:\n",
        "  print(\"Grade B\")\n",
        "\n",
        "elif percentage >= 55:\n",
        "  print(\"Grade C\")\n",
        "\n",
        "else:\n",
        "  print(\"Grade D\")"
      ],
      "metadata": {
        "colab": {
          "base_uri": "https://localhost:8080/"
        },
        "id": "3R4jWBe41nSX",
        "outputId": "938b1145-f2a2-47ef-8a3f-d404b456f92c"
      },
      "execution_count": 15,
      "outputs": [
        {
          "output_type": "stream",
          "name": "stdout",
          "text": [
            "90\n",
            "Grade A\n",
            "Grade B\n",
            "Grade C\n"
          ]
        }
      ]
    },
    {
      "cell_type": "code",
      "source": [
        "if False:\n",
        "    print(\"Nissan\")\n",
        "elif True:\n",
        "    print(\"Ford\")\n",
        "elif True:\n",
        "    print(\"BMW\")\n",
        "else:\n",
        "    print(\"Audi\")"
      ],
      "metadata": {
        "colab": {
          "base_uri": "https://localhost:8080/"
        },
        "id": "8EtYQoby8WlR",
        "outputId": "56ab3868-3026-4115-89d4-f00a932a0445"
      },
      "execution_count": 16,
      "outputs": [
        {
          "output_type": "stream",
          "name": "stdout",
          "text": [
            "Ford\n"
          ]
        }
      ]
    },
    {
      "cell_type": "markdown",
      "source": [
        "HW:\n",
        "Draw the flowchart and execution flow for the following code"
      ],
      "metadata": {
        "id": "dVfGRB26BSZ0"
      }
    },
    {
      "cell_type": "code",
      "source": [
        "x = 0\n",
        "a = 5\n",
        "b = 5\n",
        "if a > 0:\n",
        "    if b < 0: \n",
        "        x = x + 5 \n",
        "    elif a > 5:\n",
        "        x = x + 4\n",
        "    else:\n",
        "        x = x + 3\n",
        "else:\n",
        "    x = x + 2\n",
        "print(x)"
      ],
      "metadata": {
        "colab": {
          "base_uri": "https://localhost:8080/"
        },
        "id": "ixgXVR_5_SSb",
        "outputId": "5a8e4ec4-05d2-44ae-efba-2c49b1430754"
      },
      "execution_count": 17,
      "outputs": [
        {
          "output_type": "stream",
          "name": "stdout",
          "text": [
            "3\n"
          ]
        }
      ]
    },
    {
      "cell_type": "code",
      "source": [
        "\"Hello\" + \"World\""
      ],
      "metadata": {
        "colab": {
          "base_uri": "https://localhost:8080/",
          "height": 35
        },
        "id": "63zaQsyPAm7L",
        "outputId": "e378001e-b4b5-44ab-bfe8-2a7a5c8ed157"
      },
      "execution_count": 18,
      "outputs": [
        {
          "output_type": "execute_result",
          "data": {
            "text/plain": [
              "'HelloWorld'"
            ],
            "application/vnd.google.colaboratory.intrinsic+json": {
              "type": "string"
            }
          },
          "metadata": {},
          "execution_count": 18
        }
      ]
    },
    {
      "cell_type": "code",
      "source": [
        "print(\"Hello\" + \"World\")"
      ],
      "metadata": {
        "colab": {
          "base_uri": "https://localhost:8080/"
        },
        "id": "06oyVe95CdhD",
        "outputId": "46e39458-ecb1-437a-e8bc-972a9ea508a7"
      },
      "execution_count": 19,
      "outputs": [
        {
          "output_type": "stream",
          "name": "stdout",
          "text": [
            "HelloWorld\n"
          ]
        }
      ]
    },
    {
      "cell_type": "code",
      "source": [
        "True == bool(7)"
      ],
      "metadata": {
        "id": "xclfPxGxDRY7"
      },
      "execution_count": null,
      "outputs": []
    },
    {
      "cell_type": "code",
      "source": [
        "t=([1,2,3] ,\"Nabina\" , 7 , 8)"
      ],
      "metadata": {
        "id": "xdxza_p_D7TG"
      },
      "execution_count": 22,
      "outputs": []
    },
    {
      "cell_type": "markdown",
      "source": [
        "`t` is immutable but `t[0]` is mutable"
      ],
      "metadata": {
        "id": "-vhGnM6-EIu_"
      }
    },
    {
      "cell_type": "code",
      "source": [
        "t[0][0] = 100"
      ],
      "metadata": {
        "id": "Crs9KfgoD7rM"
      },
      "execution_count": 25,
      "outputs": []
    },
    {
      "cell_type": "code",
      "source": [
        "t"
      ],
      "metadata": {
        "colab": {
          "base_uri": "https://localhost:8080/"
        },
        "id": "kRLMELjiEC_H",
        "outputId": "a1886483-668f-4dbe-fb85-7047c2f5331d"
      },
      "execution_count": 26,
      "outputs": [
        {
          "output_type": "execute_result",
          "data": {
            "text/plain": [
              "([100, 2, 3], 'Nabina', 7, 8)"
            ]
          },
          "metadata": {},
          "execution_count": 26
        }
      ]
    },
    {
      "cell_type": "code",
      "source": [
        "bool(\"\")"
      ],
      "metadata": {
        "colab": {
          "base_uri": "https://localhost:8080/"
        },
        "id": "LEYOy8kcEOxN",
        "outputId": "076f8b75-ec35-4611-c83d-149d0b3d0d22"
      },
      "execution_count": 27,
      "outputs": [
        {
          "output_type": "execute_result",
          "data": {
            "text/plain": [
              "False"
            ]
          },
          "metadata": {},
          "execution_count": 27
        }
      ]
    },
    {
      "cell_type": "code",
      "source": [
        "bool(\"scaler\")"
      ],
      "metadata": {
        "colab": {
          "base_uri": "https://localhost:8080/"
        },
        "id": "3E0wg_3bEzj2",
        "outputId": "92791ec2-58f7-4fc9-f3b2-2daaf7c3ae40"
      },
      "execution_count": 28,
      "outputs": [
        {
          "output_type": "execute_result",
          "data": {
            "text/plain": [
              "True"
            ]
          },
          "metadata": {},
          "execution_count": 28
        }
      ]
    },
    {
      "cell_type": "code",
      "source": [
        "bool(0)"
      ],
      "metadata": {
        "colab": {
          "base_uri": "https://localhost:8080/"
        },
        "id": "PMzWCuscE0yv",
        "outputId": "d25ffdbe-b456-40b2-e9bf-d05818ea26e2"
      },
      "execution_count": 29,
      "outputs": [
        {
          "output_type": "execute_result",
          "data": {
            "text/plain": [
              "False"
            ]
          },
          "metadata": {},
          "execution_count": 29
        }
      ]
    },
    {
      "cell_type": "code",
      "source": [
        "bool(-7654)"
      ],
      "metadata": {
        "colab": {
          "base_uri": "https://localhost:8080/"
        },
        "id": "ZOyu7e0hE165",
        "outputId": "a9e350ae-0365-478e-f2dc-838b6c14b110"
      },
      "execution_count": 30,
      "outputs": [
        {
          "output_type": "execute_result",
          "data": {
            "text/plain": [
              "True"
            ]
          },
          "metadata": {},
          "execution_count": 30
        }
      ]
    },
    {
      "cell_type": "code",
      "source": [
        "bool(None)"
      ],
      "metadata": {
        "colab": {
          "base_uri": "https://localhost:8080/"
        },
        "id": "WR5xE8bDE3ST",
        "outputId": "581808c9-defd-4d3e-c8c4-092b28ed247b"
      },
      "execution_count": 31,
      "outputs": [
        {
          "output_type": "execute_result",
          "data": {
            "text/plain": [
              "False"
            ]
          },
          "metadata": {},
          "execution_count": 31
        }
      ]
    },
    {
      "cell_type": "code",
      "source": [
        "j = 5\n",
        "a = 1 + 5j"
      ],
      "metadata": {
        "id": "1_aN2mEjE7jB"
      },
      "execution_count": null,
      "outputs": []
    },
    {
      "cell_type": "code",
      "source": [
        "if False:\n",
        "  print(\"blah blah blah\")"
      ],
      "metadata": {
        "id": "fP8cED5IF9ju"
      },
      "execution_count": null,
      "outputs": []
    },
    {
      "cell_type": "code",
      "source": [
        "a = [1, 2, 3, 4, 5]"
      ],
      "metadata": {
        "id": "TKHx6QPOHJRZ"
      },
      "execution_count": 32,
      "outputs": []
    },
    {
      "cell_type": "code",
      "source": [
        "a = (1, 2, 3, 4, 5)"
      ],
      "metadata": {
        "id": "pSzOKcddHKBG"
      },
      "execution_count": 33,
      "outputs": []
    },
    {
      "cell_type": "code",
      "source": [
        "a = {\"name\": \"Jatin\", \"Company\": \"Scaler\"}"
      ],
      "metadata": {
        "id": "ep9jwdvqHMFE"
      },
      "execution_count": 34,
      "outputs": []
    },
    {
      "cell_type": "code",
      "source": [
        "10 % -3"
      ],
      "metadata": {
        "colab": {
          "base_uri": "https://localhost:8080/"
        },
        "id": "mYYu-tanHQDp",
        "outputId": "d76aef6b-5058-456a-f205-256f0312dbc7"
      },
      "execution_count": 35,
      "outputs": [
        {
          "output_type": "execute_result",
          "data": {
            "text/plain": [
              "-2"
            ]
          },
          "metadata": {},
          "execution_count": 35
        }
      ]
    },
    {
      "cell_type": "code",
      "source": [
        "a = 10\n",
        "b = -3\n",
        "\n",
        "a - b * (a//b)"
      ],
      "metadata": {
        "colab": {
          "base_uri": "https://localhost:8080/"
        },
        "id": "ALTO1b02HazM",
        "outputId": "6f160363-3562-40d8-db07-08fb118fcc89"
      },
      "execution_count": 37,
      "outputs": [
        {
          "output_type": "execute_result",
          "data": {
            "text/plain": [
              "-2"
            ]
          },
          "metadata": {},
          "execution_count": 37
        }
      ]
    },
    {
      "cell_type": "code",
      "source": [
        "\"abc\" * 0"
      ],
      "metadata": {
        "colab": {
          "base_uri": "https://localhost:8080/",
          "height": 35
        },
        "id": "ayH2InTTHcuO",
        "outputId": "9915f5a9-5c2b-41fd-cfea-0b0b59f2de29"
      },
      "execution_count": 38,
      "outputs": [
        {
          "output_type": "execute_result",
          "data": {
            "text/plain": [
              "''"
            ],
            "application/vnd.google.colaboratory.intrinsic+json": {
              "type": "string"
            }
          },
          "metadata": {},
          "execution_count": 38
        }
      ]
    },
    {
      "cell_type": "code",
      "source": [
        "a = list(map(int, input().split(' ')))"
      ],
      "metadata": {
        "colab": {
          "base_uri": "https://localhost:8080/"
        },
        "id": "M08vTl_eIHHh",
        "outputId": "a22cac67-ee68-4425-b9a3-afd81b9cc08c"
      },
      "execution_count": 41,
      "outputs": [
        {
          "name": "stdout",
          "output_type": "stream",
          "text": [
            "1 2 3 4 5 6\n"
          ]
        }
      ]
    },
    {
      "cell_type": "code",
      "source": [
        "a"
      ],
      "metadata": {
        "colab": {
          "base_uri": "https://localhost:8080/"
        },
        "id": "6CnyFB_nIUri",
        "outputId": "79ead717-10e8-40a1-9091-5a54ffdde61d"
      },
      "execution_count": 42,
      "outputs": [
        {
          "output_type": "execute_result",
          "data": {
            "text/plain": [
              "[1, 2, 3, 4, 5, 6]"
            ]
          },
          "metadata": {},
          "execution_count": 42
        }
      ]
    },
    {
      "cell_type": "code",
      "source": [
        "x = 20\n",
        "y = 5\n",
        "result = (x + True) / (4 - y * False)"
      ],
      "metadata": {
        "id": "c19uwQXTIWK1"
      },
      "execution_count": 43,
      "outputs": []
    },
    {
      "cell_type": "code",
      "source": [
        "result"
      ],
      "metadata": {
        "colab": {
          "base_uri": "https://localhost:8080/"
        },
        "id": "5TFD-4U1IrmC",
        "outputId": "64aa5219-dbb5-4617-a41c-e215172927c0"
      },
      "execution_count": 44,
      "outputs": [
        {
          "output_type": "execute_result",
          "data": {
            "text/plain": [
              "5.25"
            ]
          },
          "metadata": {},
          "execution_count": 44
        }
      ]
    },
    {
      "cell_type": "code",
      "source": [],
      "metadata": {
        "id": "kpjwkPd9IsQW"
      },
      "execution_count": null,
      "outputs": []
    }
  ]
}