{
  "nbformat": 4,
  "nbformat_minor": 0,
  "metadata": {
    "colab": {
      "provenance": [],
      "authorship_tag": "ABX9TyOzAPTT8jHfcniep6iy7PX+",
      "include_colab_link": true
    },
    "kernelspec": {
      "name": "python3",
      "display_name": "Python 3"
    },
    "language_info": {
      "name": "python"
    }
  },
  "cells": [
    {
      "cell_type": "markdown",
      "metadata": {
        "id": "view-in-github",
        "colab_type": "text"
      },
      "source": [
        "<a href=\"https://colab.research.google.com/github/scaleracademy/dsml-beginner-oct-22/blob/main/Data_Types.ipynb\" target=\"_parent\"><img src=\"https://colab.research.google.com/assets/colab-badge.svg\" alt=\"Open In Colab\"/></a>"
      ]
    },
    {
      "cell_type": "code",
      "execution_count": null,
      "metadata": {
        "id": "UA128iCv2J-4"
      },
      "outputs": [],
      "source": [
        "a = 5"
      ]
    },
    {
      "cell_type": "code",
      "source": [
        "type(a)"
      ],
      "metadata": {
        "colab": {
          "base_uri": "https://localhost:8080/"
        },
        "id": "9GXBkaNU_Uy8",
        "outputId": "403bff82-fcf8-4aca-fae8-c8ec1e3abb90"
      },
      "execution_count": null,
      "outputs": [
        {
          "output_type": "execute_result",
          "data": {
            "text/plain": [
              "int"
            ]
          },
          "metadata": {},
          "execution_count": 2
        }
      ]
    },
    {
      "cell_type": "code",
      "source": [
        "a = 12.5\n",
        "print(type(a))"
      ],
      "metadata": {
        "colab": {
          "base_uri": "https://localhost:8080/"
        },
        "id": "8Eyu2C7s_Vdu",
        "outputId": "fedc6972-50c9-4a67-cc7c-e5427c7c89c1"
      },
      "execution_count": null,
      "outputs": [
        {
          "output_type": "stream",
          "name": "stdout",
          "text": [
            "<class 'float'>\n"
          ]
        }
      ]
    },
    {
      "cell_type": "code",
      "source": [
        "a = \"scaler\"\n",
        "print(type(a))"
      ],
      "metadata": {
        "colab": {
          "base_uri": "https://localhost:8080/"
        },
        "id": "IS5tomED_Zok",
        "outputId": "4d044aa3-949c-44c4-b009-a8c365e5013f"
      },
      "execution_count": null,
      "outputs": [
        {
          "output_type": "stream",
          "name": "stdout",
          "text": [
            "<class 'str'>\n"
          ]
        }
      ]
    },
    {
      "cell_type": "markdown",
      "source": [
        "read a, b, c"
      ],
      "metadata": {
        "id": "lRVwwISLAVM9"
      }
    },
    {
      "cell_type": "code",
      "source": [
        "a = 2\n",
        "b = 45\n",
        "c = 10"
      ],
      "metadata": {
        "id": "xTcyfS9J_cwa"
      },
      "execution_count": null,
      "outputs": []
    },
    {
      "cell_type": "markdown",
      "source": [
        "process"
      ],
      "metadata": {
        "id": "kDy3T7SQAZKL"
      }
    },
    {
      "cell_type": "code",
      "source": [
        "avg = (a + b + c) / 3"
      ],
      "metadata": {
        "id": "Oop7BK6SAW90"
      },
      "execution_count": null,
      "outputs": []
    },
    {
      "cell_type": "markdown",
      "source": [
        "print output"
      ],
      "metadata": {
        "id": "Plnn-p2wAgqf"
      }
    },
    {
      "cell_type": "code",
      "source": [
        "print(avg)"
      ],
      "metadata": {
        "colab": {
          "base_uri": "https://localhost:8080/"
        },
        "id": "b8SbXVibAeoq",
        "outputId": "a5daaa6e-f14a-40e9-9045-feafc3711ed2"
      },
      "execution_count": null,
      "outputs": [
        {
          "output_type": "stream",
          "name": "stdout",
          "text": [
            "19.0\n"
          ]
        }
      ]
    },
    {
      "cell_type": "code",
      "source": [
        "a = 5"
      ],
      "metadata": {
        "id": "qqMjDJSzAiVm"
      },
      "execution_count": null,
      "outputs": []
    },
    {
      "cell_type": "code",
      "source": [
        "id(a)"
      ],
      "metadata": {
        "colab": {
          "base_uri": "https://localhost:8080/"
        },
        "id": "4YbxvfjdCr9r",
        "outputId": "35f2f48e-f5df-473d-899b-570d92c90f58"
      },
      "execution_count": null,
      "outputs": [
        {
          "output_type": "execute_result",
          "data": {
            "text/plain": [
              "11126816"
            ]
          },
          "metadata": {},
          "execution_count": 9
        }
      ]
    },
    {
      "cell_type": "code",
      "source": [
        "b = a"
      ],
      "metadata": {
        "id": "8cLtj_25Cuxk"
      },
      "execution_count": null,
      "outputs": []
    },
    {
      "cell_type": "code",
      "source": [
        "id(b)"
      ],
      "metadata": {
        "colab": {
          "base_uri": "https://localhost:8080/"
        },
        "id": "NuzkvLC_DY7k",
        "outputId": "61819187-7393-449b-e33c-4a67572e6280"
      },
      "execution_count": null,
      "outputs": [
        {
          "output_type": "execute_result",
          "data": {
            "text/plain": [
              "11126816"
            ]
          },
          "metadata": {},
          "execution_count": 11
        }
      ]
    },
    {
      "cell_type": "code",
      "source": [
        "b = 5"
      ],
      "metadata": {
        "id": "U6bOC2qnDZat"
      },
      "execution_count": null,
      "outputs": []
    },
    {
      "cell_type": "code",
      "source": [
        "a = 5\n",
        "b = 5\n",
        "c = 5\n",
        "\n",
        "print(id(a))\n",
        "print(id(b))\n",
        "print(id(c))"
      ],
      "metadata": {
        "colab": {
          "base_uri": "https://localhost:8080/"
        },
        "id": "NXu80GnSDuv4",
        "outputId": "ce011a78-6fca-4e00-b78e-53fd35038475"
      },
      "execution_count": null,
      "outputs": [
        {
          "output_type": "stream",
          "name": "stdout",
          "text": [
            "11126816\n",
            "11126816\n",
            "11126816\n"
          ]
        }
      ]
    },
    {
      "cell_type": "code",
      "source": [
        "a = -3\n",
        "b = -3\n",
        "c = -3\n",
        "\n",
        "print(id(a))\n",
        "print(id(b))\n",
        "print(id(c))"
      ],
      "metadata": {
        "colab": {
          "base_uri": "https://localhost:8080/"
        },
        "id": "NiV3EDiAFVAu",
        "outputId": "d21ce915-6474-4c46-89e6-787985ec883a"
      },
      "execution_count": null,
      "outputs": [
        {
          "output_type": "stream",
          "name": "stdout",
          "text": [
            "11126560\n",
            "11126560\n",
            "11126560\n"
          ]
        }
      ]
    },
    {
      "cell_type": "code",
      "source": [
        "for = 10"
      ],
      "metadata": {
        "colab": {
          "base_uri": "https://localhost:8080/",
          "height": 133
        },
        "id": "3-Zhk3fjFdJd",
        "outputId": "5bab1558-1042-474d-a98c-5413f013cc73"
      },
      "execution_count": null,
      "outputs": [
        {
          "output_type": "error",
          "ename": "SyntaxError",
          "evalue": "ignored",
          "traceback": [
            "\u001b[0;36m  File \u001b[0;32m\"<ipython-input-18-597287a2d762>\"\u001b[0;36m, line \u001b[0;32m1\u001b[0m\n\u001b[0;31m    for = 10\u001b[0m\n\u001b[0m        ^\u001b[0m\n\u001b[0;31mSyntaxError\u001b[0m\u001b[0;31m:\u001b[0m invalid syntax\n"
          ]
        }
      ]
    },
    {
      "cell_type": "markdown",
      "source": [
        "https://docs.python.org/3/reference/lexical_analysis.html#keywords"
      ],
      "metadata": {
        "id": "NTagdJk8LDJI"
      }
    },
    {
      "cell_type": "code",
      "source": [
        "a = 5\n",
        "b = 10\n",
        "c = 23\n",
        "\n",
        "# the average is found out by adding all the numbers and dividing by the count\n",
        "avg = (a + b + c) / 3"
      ],
      "metadata": {
        "id": "QcQWqGYQKTaY"
      },
      "execution_count": null,
      "outputs": []
    },
    {
      "cell_type": "code",
      "source": [
        "# This variable's identifier is a and value is 5\n",
        "a = 5"
      ],
      "metadata": {
        "id": "WCFp3MbxLqSi"
      },
      "execution_count": null,
      "outputs": []
    },
    {
      "cell_type": "code",
      "source": [
        "id(a)"
      ],
      "metadata": {
        "colab": {
          "base_uri": "https://localhost:8080/"
        },
        "id": "w-SRLU7OOOTY",
        "outputId": "e6dd99d5-b17a-4a34-ca54-791eff67571c"
      },
      "execution_count": null,
      "outputs": [
        {
          "output_type": "execute_result",
          "data": {
            "text/plain": [
              "11126816"
            ]
          },
          "metadata": {},
          "execution_count": 23
        }
      ]
    },
    {
      "cell_type": "code",
      "source": [
        "a=300\n",
        "b=300\n",
        "print(id(a))\n",
        "print(id(b))"
      ],
      "metadata": {
        "colab": {
          "base_uri": "https://localhost:8080/"
        },
        "id": "UJJdG03FPHSQ",
        "outputId": "81899283-4649-44d1-a25d-25bf38e9f8b4"
      },
      "execution_count": null,
      "outputs": [
        {
          "output_type": "stream",
          "name": "stdout",
          "text": [
            "139886511190288\n",
            "139886511190064\n"
          ]
        }
      ]
    },
    {
      "cell_type": "code",
      "source": [
        "a = 2 + 5j"
      ],
      "metadata": {
        "id": "qsN3PdHvQhCA"
      },
      "execution_count": null,
      "outputs": []
    },
    {
      "cell_type": "code",
      "source": [
        "5"
      ],
      "metadata": {
        "colab": {
          "base_uri": "https://localhost:8080/"
        },
        "id": "98Bbxh20RNZG",
        "outputId": "597f4476-bc16-4fe9-a93e-ecb2c2fba72b"
      },
      "execution_count": null,
      "outputs": [
        {
          "output_type": "execute_result",
          "data": {
            "text/plain": [
              "5"
            ]
          },
          "metadata": {},
          "execution_count": 26
        }
      ]
    },
    {
      "cell_type": "code",
      "source": [
        "print(5)"
      ],
      "metadata": {
        "colab": {
          "base_uri": "https://localhost:8080/"
        },
        "id": "cM922FFORjrG",
        "outputId": "b468d759-9820-4b50-ea8a-2dd286754dfb"
      },
      "execution_count": null,
      "outputs": [
        {
          "output_type": "stream",
          "name": "stdout",
          "text": [
            "5\n"
          ]
        }
      ]
    },
    {
      "cell_type": "code",
      "source": [
        "print(\"Hello World\")"
      ],
      "metadata": {
        "colab": {
          "base_uri": "https://localhost:8080/"
        },
        "id": "QCDJDPopRlCr",
        "outputId": "c62f85f5-e7ba-467c-8e77-699749346814"
      },
      "execution_count": null,
      "outputs": [
        {
          "output_type": "stream",
          "name": "stdout",
          "text": [
            "Hello World\n"
          ]
        }
      ]
    },
    {
      "cell_type": "code",
      "source": [
        "globals()"
      ],
      "metadata": {
        "colab": {
          "base_uri": "https://localhost:8080/"
        },
        "id": "MFL8z8kIRs39",
        "outputId": "e6169c60-6ad1-4b5b-fd53-926c4813c527"
      },
      "execution_count": null,
      "outputs": [
        {
          "output_type": "execute_result",
          "data": {
            "text/plain": [
              "{'__name__': '__main__',\n",
              " '__doc__': 'Automatically created module for IPython interactive environment',\n",
              " '__package__': None,\n",
              " '__loader__': None,\n",
              " '__spec__': None,\n",
              " '__builtin__': <module 'builtins' (built-in)>,\n",
              " '__builtins__': <module 'builtins' (built-in)>,\n",
              " '_ih': ['',\n",
              "  'a = 5',\n",
              "  'type(a)',\n",
              "  'a = 12.5\\nprint(type(a))',\n",
              "  'a = \"scaler\"\\nprint(type(a))',\n",
              "  'a = 2\\nb = 45\\nc = 10',\n",
              "  'avg = (a + b + c) / 3',\n",
              "  'print(avg)',\n",
              "  'a = 5',\n",
              "  'id(a)',\n",
              "  'b = a',\n",
              "  'id(b)',\n",
              "  'b = 5',\n",
              "  'a = 5\\nb = 5\\nc = 5\\n\\nprint(id(a))\\nprint(id(b))\\nprint(id(c))',\n",
              "  'a = 257\\nb = 257\\nc = 257\\n\\nprint(id(a))\\nprint(id(b))\\nprint(id(c))',\n",
              "  'a = 253\\nb = 253\\nc = 253\\n\\nprint(id(a))\\nprint(id(b))\\nprint(id(c))',\n",
              "  'a = 12345678765432\\nb = 12345678765432\\nc = 12345678765432\\n\\nprint(id(a))\\nprint(id(b))\\nprint(id(c))',\n",
              "  'a = -3\\nb = -3\\nc = -3\\n\\nprint(id(a))\\nprint(id(b))\\nprint(id(c))',\n",
              "  'for = 10',\n",
              "  'a = 5\\nb = 10\\nc = 23\\n\\n# the average is found out by adding all the numbers and dividing by the count\\navg = (a + b + c) / 3',\n",
              "  'a = 5\\nb = 10\\nc = 23\\n\\n\\navg = (a + b + c) / 3',\n",
              "  'a = 5\\nb = 10\\nc = 23\\n\\n# the average is found out by adding all the numbers and dividing by the count\\navg = (a + b + c) / 3',\n",
              "  \"# This variable's identifier is a and value is 5\\na = 5\",\n",
              "  'id(a)',\n",
              "  'a=300\\nb=300\\nprint(id(a))\\nprint(id(b))',\n",
              "  'a = 2 + 5j',\n",
              "  '5',\n",
              "  'print(5)',\n",
              "  'print(\"Hello World\")',\n",
              "  'globals()'],\n",
              " '_oh': {2: int, 9: 11126816, 11: 11126816, 23: 11126816, 26: 5},\n",
              " '_dh': ['/content'],\n",
              " 'In': ['',\n",
              "  'a = 5',\n",
              "  'type(a)',\n",
              "  'a = 12.5\\nprint(type(a))',\n",
              "  'a = \"scaler\"\\nprint(type(a))',\n",
              "  'a = 2\\nb = 45\\nc = 10',\n",
              "  'avg = (a + b + c) / 3',\n",
              "  'print(avg)',\n",
              "  'a = 5',\n",
              "  'id(a)',\n",
              "  'b = a',\n",
              "  'id(b)',\n",
              "  'b = 5',\n",
              "  'a = 5\\nb = 5\\nc = 5\\n\\nprint(id(a))\\nprint(id(b))\\nprint(id(c))',\n",
              "  'a = 257\\nb = 257\\nc = 257\\n\\nprint(id(a))\\nprint(id(b))\\nprint(id(c))',\n",
              "  'a = 253\\nb = 253\\nc = 253\\n\\nprint(id(a))\\nprint(id(b))\\nprint(id(c))',\n",
              "  'a = 12345678765432\\nb = 12345678765432\\nc = 12345678765432\\n\\nprint(id(a))\\nprint(id(b))\\nprint(id(c))',\n",
              "  'a = -3\\nb = -3\\nc = -3\\n\\nprint(id(a))\\nprint(id(b))\\nprint(id(c))',\n",
              "  'for = 10',\n",
              "  'a = 5\\nb = 10\\nc = 23\\n\\n# the average is found out by adding all the numbers and dividing by the count\\navg = (a + b + c) / 3',\n",
              "  'a = 5\\nb = 10\\nc = 23\\n\\n\\navg = (a + b + c) / 3',\n",
              "  'a = 5\\nb = 10\\nc = 23\\n\\n# the average is found out by adding all the numbers and dividing by the count\\navg = (a + b + c) / 3',\n",
              "  \"# This variable's identifier is a and value is 5\\na = 5\",\n",
              "  'id(a)',\n",
              "  'a=300\\nb=300\\nprint(id(a))\\nprint(id(b))',\n",
              "  'a = 2 + 5j',\n",
              "  '5',\n",
              "  'print(5)',\n",
              "  'print(\"Hello World\")',\n",
              "  'globals()'],\n",
              " 'Out': {2: int, 9: 11126816, 11: 11126816, 23: 11126816, 26: 5},\n",
              " 'get_ipython': <bound method InteractiveShell.get_ipython of <google.colab._shell.Shell object at 0x7f39f77b5390>>,\n",
              " 'exit': <IPython.core.autocall.ZMQExitAutocall at 0x7f39f4766910>,\n",
              " 'quit': <IPython.core.autocall.ZMQExitAutocall at 0x7f39f4766910>,\n",
              " '_': 5,\n",
              " '__': 11126816,\n",
              " '___': 11126816,\n",
              " '_i': 'print(\"Hello World\")',\n",
              " '_ii': 'print(5)',\n",
              " '_iii': '5',\n",
              " '_i1': 'a = 5',\n",
              " 'a': (2+5j),\n",
              " '_i2': 'type(a)',\n",
              " '_2': int,\n",
              " '_i3': 'a = 12.5\\nprint(type(a))',\n",
              " '_i4': 'a = \"scaler\"\\nprint(type(a))',\n",
              " '_i5': 'a = 2\\nb = 45\\nc = 10',\n",
              " 'b': 300,\n",
              " 'c': 23,\n",
              " '_i6': 'avg = (a + b + c) / 3',\n",
              " 'avg': 12.666666666666666,\n",
              " '_i7': 'print(avg)',\n",
              " '_i8': 'a = 5',\n",
              " '_i9': 'id(a)',\n",
              " '_9': 11126816,\n",
              " '_i10': 'b = a',\n",
              " '_i11': 'id(b)',\n",
              " '_11': 11126816,\n",
              " '_i12': 'b = 5',\n",
              " '_i13': 'a = 5\\nb = 5\\nc = 5\\n\\nprint(id(a))\\nprint(id(b))\\nprint(id(c))',\n",
              " '_i14': 'a = 257\\nb = 257\\nc = 257\\n\\nprint(id(a))\\nprint(id(b))\\nprint(id(c))',\n",
              " '_i15': 'a = 253\\nb = 253\\nc = 253\\n\\nprint(id(a))\\nprint(id(b))\\nprint(id(c))',\n",
              " '_i16': 'a = 12345678765432\\nb = 12345678765432\\nc = 12345678765432\\n\\nprint(id(a))\\nprint(id(b))\\nprint(id(c))',\n",
              " '_i17': 'a = -3\\nb = -3\\nc = -3\\n\\nprint(id(a))\\nprint(id(b))\\nprint(id(c))',\n",
              " '_i18': 'for = 10',\n",
              " '_i19': 'a = 5\\nb = 10\\nc = 23\\n\\n# the average is found out by adding all the numbers and dividing by the count\\navg = (a + b + c) / 3',\n",
              " '_i20': 'a = 5\\nb = 10\\nc = 23\\n\\n\\navg = (a + b + c) / 3',\n",
              " '_i21': 'a = 5\\nb = 10\\nc = 23\\n\\n# the average is found out by adding all the numbers and dividing by the count\\navg = (a + b + c) / 3',\n",
              " '_i22': \"# This variable's identifier is a and value is 5\\na = 5\",\n",
              " '_i23': 'id(a)',\n",
              " '_23': 11126816,\n",
              " '_i24': 'a=300\\nb=300\\nprint(id(a))\\nprint(id(b))',\n",
              " '_i25': 'a = 2 + 5j',\n",
              " '_i26': '5',\n",
              " '_26': 5,\n",
              " '_i27': 'print(5)',\n",
              " '_i28': 'print(\"Hello World\")',\n",
              " '_i29': 'globals()'}"
            ]
          },
          "metadata": {},
          "execution_count": 29
        }
      ]
    },
    {
      "cell_type": "code",
      "source": [],
      "metadata": {
        "id": "ktzc1UEWSOtI"
      },
      "execution_count": null,
      "outputs": []
    }
  ]
}