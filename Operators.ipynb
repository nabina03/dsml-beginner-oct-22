{
  "nbformat": 4,
  "nbformat_minor": 0,
  "metadata": {
    "colab": {
      "provenance": [],
      "authorship_tag": "ABX9TyPh2LUQH4VX3vg/sskMWwge",
      "include_colab_link": true
    },
    "kernelspec": {
      "name": "python3",
      "display_name": "Python 3"
    },
    "language_info": {
      "name": "python"
    }
  },
  "cells": [
    {
      "cell_type": "markdown",
      "metadata": {
        "id": "view-in-github",
        "colab_type": "text"
      },
      "source": [
        "<a href=\"https://colab.research.google.com/github/scaleracademy/dsml-beginner-oct-22/blob/main/Operators.ipynb\" target=\"_parent\"><img src=\"https://colab.research.google.com/assets/colab-badge.svg\" alt=\"Open In Colab\"/></a>"
      ]
    },
    {
      "cell_type": "markdown",
      "source": [
        "# Data Types"
      ],
      "metadata": {
        "id": "Vjy9pnNbQFWb"
      }
    },
    {
      "cell_type": "markdown",
      "source": [
        "Numerical Data Types\n",
        "- **int** (Integer) It has variable precision which means I can create integer value of any size\n",
        "- **float**\n",
        "- **complex**"
      ],
      "metadata": {
        "id": "6eZfhAY5QHSw"
      }
    },
    {
      "cell_type": "code",
      "source": [
        "a = 5\n",
        "print(type(a))"
      ],
      "metadata": {
        "id": "2iSHbVe7N7gR",
        "colab": {
          "base_uri": "https://localhost:8080/"
        },
        "outputId": "981d5fb3-a50b-47bf-c643-15e1f0dbbc83"
      },
      "execution_count": 1,
      "outputs": [
        {
          "output_type": "stream",
          "name": "stdout",
          "text": [
            "<class 'int'>\n"
          ]
        }
      ]
    },
    {
      "cell_type": "code",
      "source": [
        "a = 5 + 6 + 21 + 4567 + 987654567\n",
        "print(type(a))"
      ],
      "metadata": {
        "colab": {
          "base_uri": "https://localhost:8080/"
        },
        "id": "P6uy0KGnQQb2",
        "outputId": "5dd6a2f8-ad3d-426b-e1f0-2ccdb7976724"
      },
      "execution_count": 2,
      "outputs": [
        {
          "output_type": "stream",
          "name": "stdout",
          "text": [
            "<class 'int'>\n"
          ]
        }
      ]
    },
    {
      "cell_type": "code",
      "source": [
        "a = 34567898765434567898765432345678987654323456789876543234567898765432123456789876543212345678765432345678765432134567876543234567876543234567890\n",
        "print(type(a))"
      ],
      "metadata": {
        "colab": {
          "base_uri": "https://localhost:8080/"
        },
        "id": "oU_8DhQaQUkB",
        "outputId": "c49b1703-acdf-4efc-be21-55665f9db43b"
      },
      "execution_count": 3,
      "outputs": [
        {
          "output_type": "stream",
          "name": "stdout",
          "text": [
            "<class 'int'>\n"
          ]
        }
      ]
    },
    {
      "cell_type": "code",
      "source": [
        "a = 5.5\n",
        "print(type(a))"
      ],
      "metadata": {
        "colab": {
          "base_uri": "https://localhost:8080/"
        },
        "id": "q_xLKOJ0QZ0Z",
        "outputId": "1eaf980f-4a8e-4cb0-9a08-4b8675794b52"
      },
      "execution_count": 5,
      "outputs": [
        {
          "output_type": "stream",
          "name": "stdout",
          "text": [
            "<class 'float'>\n"
          ]
        }
      ]
    },
    {
      "cell_type": "code",
      "source": [
        "a = 10 / 2\n",
        "print(type(a))"
      ],
      "metadata": {
        "colab": {
          "base_uri": "https://localhost:8080/"
        },
        "id": "0ptt3q2LREW1",
        "outputId": "6c7c4523-5fa4-492e-d318-b17ff3a9ddb9"
      },
      "execution_count": 6,
      "outputs": [
        {
          "output_type": "stream",
          "name": "stdout",
          "text": [
            "<class 'float'>\n"
          ]
        }
      ]
    },
    {
      "cell_type": "code",
      "source": [
        "a = 5 + 1j\n",
        "print(type(a))"
      ],
      "metadata": {
        "colab": {
          "base_uri": "https://localhost:8080/"
        },
        "id": "mwECsRs8RPTz",
        "outputId": "cf475e7e-35f2-4a58-8249-1a5fa27626bf"
      },
      "execution_count": 7,
      "outputs": [
        {
          "output_type": "stream",
          "name": "stdout",
          "text": [
            "<class 'complex'>\n"
          ]
        }
      ]
    },
    {
      "cell_type": "code",
      "source": [
        "print(type(5j))"
      ],
      "metadata": {
        "colab": {
          "base_uri": "https://localhost:8080/"
        },
        "id": "yCko03GzRoFH",
        "outputId": "046312df-6d4c-4dc7-a206-dbad889538ae"
      },
      "execution_count": 8,
      "outputs": [
        {
          "output_type": "stream",
          "name": "stdout",
          "text": [
            "<class 'complex'>\n"
          ]
        }
      ]
    },
    {
      "cell_type": "code",
      "source": [
        "print(type(5))"
      ],
      "metadata": {
        "colab": {
          "base_uri": "https://localhost:8080/"
        },
        "id": "la-QtkhlS3we",
        "outputId": "fe67d6d6-b8ff-4278-b22c-1b02d9a3e021"
      },
      "execution_count": 9,
      "outputs": [
        {
          "output_type": "stream",
          "name": "stdout",
          "text": [
            "<class 'int'>\n"
          ]
        }
      ]
    },
    {
      "cell_type": "code",
      "source": [
        "print(type(5 + 5.5))"
      ],
      "metadata": {
        "colab": {
          "base_uri": "https://localhost:8080/"
        },
        "id": "vid58YIiS7gr",
        "outputId": "78cff849-3e47-42f7-a96f-cf947efae8e4"
      },
      "execution_count": 10,
      "outputs": [
        {
          "output_type": "stream",
          "name": "stdout",
          "text": [
            "<class 'float'>\n"
          ]
        }
      ]
    },
    {
      "cell_type": "code",
      "source": [
        "print(type(1j - 1j))"
      ],
      "metadata": {
        "colab": {
          "base_uri": "https://localhost:8080/"
        },
        "id": "wfTt8Ev6S_0L",
        "outputId": "73162f21-b3bf-4b3e-d38a-86aa06ebdeb1"
      },
      "execution_count": 12,
      "outputs": [
        {
          "output_type": "stream",
          "name": "stdout",
          "text": [
            "<class 'complex'>\n"
          ]
        }
      ]
    },
    {
      "cell_type": "code",
      "source": [
        "print(type(5 + 0j))"
      ],
      "metadata": {
        "colab": {
          "base_uri": "https://localhost:8080/"
        },
        "id": "D-REae_MTEoS",
        "outputId": "c933c8f1-6146-429c-d206-f2a0908fe175"
      },
      "execution_count": 13,
      "outputs": [
        {
          "output_type": "stream",
          "name": "stdout",
          "text": [
            "<class 'complex'>\n"
          ]
        }
      ]
    },
    {
      "cell_type": "code",
      "source": [
        "1j - 1j"
      ],
      "metadata": {
        "colab": {
          "base_uri": "https://localhost:8080/"
        },
        "id": "tFXhNSgQTTqx",
        "outputId": "65b2a2af-881b-4618-eb37-fb9b0998b6ab"
      },
      "execution_count": 14,
      "outputs": [
        {
          "output_type": "execute_result",
          "data": {
            "text/plain": [
              "0j"
            ]
          },
          "metadata": {},
          "execution_count": 14
        }
      ]
    },
    {
      "cell_type": "markdown",
      "source": [
        "Boolean"
      ],
      "metadata": {
        "id": "m9fyUJ_ETumb"
      }
    },
    {
      "cell_type": "code",
      "source": [
        "a = True\n",
        "print(type(a))"
      ],
      "metadata": {
        "colab": {
          "base_uri": "https://localhost:8080/"
        },
        "id": "kGjRKmztTWJK",
        "outputId": "55d1a307-52e6-43e3-a3ae-d2c2e3bc6a5a"
      },
      "execution_count": 15,
      "outputs": [
        {
          "output_type": "stream",
          "name": "stdout",
          "text": [
            "<class 'bool'>\n"
          ]
        }
      ]
    },
    {
      "cell_type": "code",
      "source": [
        "a = False\n",
        "print(type(a))"
      ],
      "metadata": {
        "colab": {
          "base_uri": "https://localhost:8080/"
        },
        "id": "Byf9wuUzUFkN",
        "outputId": "75f15766-899c-4d25-9308-ff854a5f210a"
      },
      "execution_count": 17,
      "outputs": [
        {
          "output_type": "stream",
          "name": "stdout",
          "text": [
            "<class 'bool'>\n"
          ]
        }
      ]
    },
    {
      "cell_type": "code",
      "source": [
        "a = true"
      ],
      "metadata": {
        "colab": {
          "base_uri": "https://localhost:8080/",
          "height": 169
        },
        "id": "P-KFQsIyUKCo",
        "outputId": "ea113b40-f881-474a-aad6-d82f2da176b1"
      },
      "execution_count": 18,
      "outputs": [
        {
          "output_type": "error",
          "ename": "NameError",
          "evalue": "ignored",
          "traceback": [
            "\u001b[0;31m---------------------------------------------------------------------------\u001b[0m",
            "\u001b[0;31mNameError\u001b[0m                                 Traceback (most recent call last)",
            "\u001b[0;32m<ipython-input-18-c100e6034b0a>\u001b[0m in \u001b[0;36m<module>\u001b[0;34m\u001b[0m\n\u001b[0;32m----> 1\u001b[0;31m \u001b[0ma\u001b[0m \u001b[0;34m=\u001b[0m \u001b[0mtrue\u001b[0m\u001b[0;34m\u001b[0m\u001b[0;34m\u001b[0m\u001b[0m\n\u001b[0m",
            "\u001b[0;31mNameError\u001b[0m: name 'true' is not defined"
          ]
        }
      ]
    },
    {
      "cell_type": "markdown",
      "source": [
        "Text "
      ],
      "metadata": {
        "id": "_0b2N0dUUSHe"
      }
    },
    {
      "cell_type": "code",
      "source": [
        "a = \"scaler\"\n",
        "print(type(a))"
      ],
      "metadata": {
        "colab": {
          "base_uri": "https://localhost:8080/"
        },
        "id": "RX9ZwP6PUNpk",
        "outputId": "df88ba46-90f8-48f0-c628-8cc63aefe850"
      },
      "execution_count": 19,
      "outputs": [
        {
          "output_type": "stream",
          "name": "stdout",
          "text": [
            "<class 'str'>\n"
          ]
        }
      ]
    },
    {
      "cell_type": "code",
      "source": [
        "a = \"s\"\n",
        "print(type(a))"
      ],
      "metadata": {
        "colab": {
          "base_uri": "https://localhost:8080/"
        },
        "id": "w4He7l9VUcto",
        "outputId": "5b31b224-1aab-4805-9013-bc1793362779"
      },
      "execution_count": 21,
      "outputs": [
        {
          "output_type": "stream",
          "name": "stdout",
          "text": [
            "<class 'str'>\n"
          ]
        }
      ]
    },
    {
      "cell_type": "code",
      "source": [
        "a = \"\"\n",
        "print(type(a))"
      ],
      "metadata": {
        "colab": {
          "base_uri": "https://localhost:8080/"
        },
        "id": "xyi5X-QoVAZl",
        "outputId": "e85c2603-db29-4438-8d8f-0d300a00f432"
      },
      "execution_count": 22,
      "outputs": [
        {
          "output_type": "stream",
          "name": "stdout",
          "text": [
            "<class 'str'>\n"
          ]
        }
      ]
    },
    {
      "cell_type": "markdown",
      "source": [
        "### Derived Data Types\n",
        "- List (Array) - Lists are heterogenous in python, mutable, ordered\n",
        "- Tuple - Immutable arrays, ordered"
      ],
      "metadata": {
        "id": "lE2RcAX3U9Iq"
      }
    },
    {
      "cell_type": "code",
      "source": [
        "a = [1, 2, 3, 4, 5]"
      ],
      "metadata": {
        "id": "T66LI-UrU2D7"
      },
      "execution_count": 23,
      "outputs": []
    },
    {
      "cell_type": "code",
      "source": [
        "names = [\"jatin\", \"Vshnu\", \"Prashant\", \"Anup\"]"
      ],
      "metadata": {
        "id": "v6enL5GaV330"
      },
      "execution_count": 24,
      "outputs": []
    },
    {
      "cell_type": "code",
      "source": [
        "b = []\n",
        "print(type(b))"
      ],
      "metadata": {
        "colab": {
          "base_uri": "https://localhost:8080/"
        },
        "id": "uQSN_SgaWINx",
        "outputId": "91ec8956-9ba7-47ee-f8f5-ed726df37663"
      },
      "execution_count": 25,
      "outputs": [
        {
          "output_type": "stream",
          "name": "stdout",
          "text": [
            "<class 'list'>\n"
          ]
        }
      ]
    },
    {
      "cell_type": "code",
      "source": [
        "a = [1, 1.5, 'scaler', 1 + 2j, True]"
      ],
      "metadata": {
        "id": "9cUbtJL0WM_c"
      },
      "execution_count": 26,
      "outputs": []
    },
    {
      "cell_type": "code",
      "source": [
        "print(a)"
      ],
      "metadata": {
        "colab": {
          "base_uri": "https://localhost:8080/"
        },
        "id": "7eSl64iAWdUu",
        "outputId": "3615cb86-5d66-4584-acda-cb1b8b215fcf"
      },
      "execution_count": 27,
      "outputs": [
        {
          "output_type": "stream",
          "name": "stdout",
          "text": [
            "[1, 1.5, 'scaler', (1+2j), True]\n"
          ]
        }
      ]
    },
    {
      "cell_type": "code",
      "source": [
        "print(type(a))"
      ],
      "metadata": {
        "colab": {
          "base_uri": "https://localhost:8080/"
        },
        "id": "poDgZCOlWeOl",
        "outputId": "24a5e71d-cf7c-4990-bd3d-1ea076c9e4c8"
      },
      "execution_count": 28,
      "outputs": [
        {
          "output_type": "stream",
          "name": "stdout",
          "text": [
            "<class 'list'>\n"
          ]
        }
      ]
    },
    {
      "cell_type": "code",
      "source": [
        "a = [1, 2, 3, 4]"
      ],
      "metadata": {
        "id": "Sj04EQEWWeyE"
      },
      "execution_count": 29,
      "outputs": []
    },
    {
      "cell_type": "code",
      "source": [
        "print(a[3])"
      ],
      "metadata": {
        "colab": {
          "base_uri": "https://localhost:8080/"
        },
        "id": "6CPvrm2zW7Wr",
        "outputId": "6fea3743-1de4-47cd-8770-e36e292c95de"
      },
      "execution_count": 33,
      "outputs": [
        {
          "output_type": "stream",
          "name": "stdout",
          "text": [
            "4\n"
          ]
        }
      ]
    },
    {
      "cell_type": "code",
      "source": [
        "a = (1, 2, 3, 4)"
      ],
      "metadata": {
        "id": "JNDZPEbvXA3r"
      },
      "execution_count": 34,
      "outputs": []
    },
    {
      "cell_type": "code",
      "source": [
        "print(type(a))"
      ],
      "metadata": {
        "colab": {
          "base_uri": "https://localhost:8080/"
        },
        "id": "Dv-OvRL1XcqQ",
        "outputId": "3f32c156-62fa-4d42-afc4-315265512519"
      },
      "execution_count": 35,
      "outputs": [
        {
          "output_type": "stream",
          "name": "stdout",
          "text": [
            "<class 'tuple'>\n"
          ]
        }
      ]
    },
    {
      "cell_type": "code",
      "source": [
        "a[0]"
      ],
      "metadata": {
        "colab": {
          "base_uri": "https://localhost:8080/"
        },
        "id": "vtfq2cwmXeL1",
        "outputId": "834532fe-9a16-41e1-ebc7-62801212ea4e"
      },
      "execution_count": 36,
      "outputs": [
        {
          "output_type": "execute_result",
          "data": {
            "text/plain": [
              "1"
            ]
          },
          "metadata": {},
          "execution_count": 36
        }
      ]
    },
    {
      "cell_type": "code",
      "source": [
        "a = [1, 2, 3, 4] # creating a list and assigning it to a\n",
        "a[0] = 100 # update the value with 100 at 0th index/position\n",
        "print(a)"
      ],
      "metadata": {
        "colab": {
          "base_uri": "https://localhost:8080/"
        },
        "id": "PmWmtGAnXiWC",
        "outputId": "c815e657-8a4d-4cd8-cbd9-7721b385e278"
      },
      "execution_count": 37,
      "outputs": [
        {
          "output_type": "stream",
          "name": "stdout",
          "text": [
            "[100, 2, 3, 4]\n"
          ]
        }
      ]
    },
    {
      "cell_type": "code",
      "source": [
        "a = (1, 2, 3, 4)\n",
        "# a[0] = 100\n",
        "print(a[0])"
      ],
      "metadata": {
        "colab": {
          "base_uri": "https://localhost:8080/"
        },
        "id": "3uMMYThMXxTW",
        "outputId": "529961f5-4875-4ca7-c2e3-da64580119fe"
      },
      "execution_count": 39,
      "outputs": [
        {
          "output_type": "stream",
          "name": "stdout",
          "text": [
            "1\n"
          ]
        }
      ]
    },
    {
      "cell_type": "markdown",
      "source": [
        "Mapping\n",
        "- Dictionary - Data is indexed via keys, data is unordered, mutable"
      ],
      "metadata": {
        "id": "mhiJWnVOZgs6"
      }
    },
    {
      "cell_type": "code",
      "source": [
        "a = {\n",
        "    \"name\": \"Jatin\",\n",
        "    \"company\": \"Scaler\",\n",
        "    \"performance percentage\": 50,\n",
        "     12: \"something\"\n",
        "}"
      ],
      "metadata": {
        "id": "rU1n92jvX2en"
      },
      "execution_count": 43,
      "outputs": []
    },
    {
      "cell_type": "code",
      "source": [
        "a[12]"
      ],
      "metadata": {
        "colab": {
          "base_uri": "https://localhost:8080/",
          "height": 35
        },
        "id": "CT8KrH-Bae2s",
        "outputId": "1477ff66-de2d-4c32-c17a-de0893569663"
      },
      "execution_count": 44,
      "outputs": [
        {
          "output_type": "execute_result",
          "data": {
            "text/plain": [
              "'something'"
            ],
            "application/vnd.google.colaboratory.intrinsic+json": {
              "type": "string"
            }
          },
          "metadata": {},
          "execution_count": 44
        }
      ]
    },
    {
      "cell_type": "code",
      "source": [
        "print(a)\n",
        "print(type(a))"
      ],
      "metadata": {
        "colab": {
          "base_uri": "https://localhost:8080/"
        },
        "id": "unbwGTz0akq1",
        "outputId": "738e19af-aa95-4b52-c7e5-b63a695b544f"
      },
      "execution_count": 42,
      "outputs": [
        {
          "output_type": "stream",
          "name": "stdout",
          "text": [
            "{'name': 'Jatin', 'company': 'Scaler'}\n",
            "<class 'dict'>\n"
          ]
        }
      ]
    },
    {
      "cell_type": "code",
      "source": [
        "a = {\n",
        "    (1, 2): \"something\"\n",
        "}"
      ],
      "metadata": {
        "id": "KlqJc1n7a5F5"
      },
      "execution_count": 48,
      "outputs": []
    },
    {
      "cell_type": "code",
      "source": [
        "a[(1, 2)]"
      ],
      "metadata": {
        "colab": {
          "base_uri": "https://localhost:8080/",
          "height": 35
        },
        "id": "IBBbdrnsbptD",
        "outputId": "3cb54cd6-c068-44cd-ebac-5115e1610514"
      },
      "execution_count": 49,
      "outputs": [
        {
          "output_type": "execute_result",
          "data": {
            "text/plain": [
              "'something'"
            ],
            "application/vnd.google.colaboratory.intrinsic+json": {
              "type": "string"
            }
          },
          "metadata": {},
          "execution_count": 49
        }
      ]
    },
    {
      "cell_type": "code",
      "source": [
        "a = {\n",
        "    [1, 2]: \"something\"\n",
        "}"
      ],
      "metadata": {
        "colab": {
          "base_uri": "https://localhost:8080/",
          "height": 204
        },
        "id": "iWIy3GeBbyH-",
        "outputId": "3fa8c1e1-cca0-4440-d6ce-34ee04bc76e4"
      },
      "execution_count": 47,
      "outputs": [
        {
          "output_type": "error",
          "ename": "TypeError",
          "evalue": "ignored",
          "traceback": [
            "\u001b[0;31m---------------------------------------------------------------------------\u001b[0m",
            "\u001b[0;31mTypeError\u001b[0m                                 Traceback (most recent call last)",
            "\u001b[0;32m<ipython-input-47-30b064723b26>\u001b[0m in \u001b[0;36m<module>\u001b[0;34m\u001b[0m\n\u001b[1;32m      1\u001b[0m a = {\n\u001b[0;32m----> 2\u001b[0;31m     \u001b[0;34m[\u001b[0m\u001b[0;36m1\u001b[0m\u001b[0;34m,\u001b[0m \u001b[0;36m2\u001b[0m\u001b[0;34m]\u001b[0m\u001b[0;34m:\u001b[0m \u001b[0;34m\"something\"\u001b[0m\u001b[0;34m\u001b[0m\u001b[0;34m\u001b[0m\u001b[0m\n\u001b[0m\u001b[1;32m      3\u001b[0m }\n",
            "\u001b[0;31mTypeError\u001b[0m: unhashable type: 'list'"
          ]
        }
      ]
    },
    {
      "cell_type": "markdown",
      "source": [
        "### Operators"
      ],
      "metadata": {
        "id": "c9E1uvysdiY0"
      }
    },
    {
      "cell_type": "markdown",
      "source": [
        "Arithmetic Operators\n",
        "- +\n",
        "- -\n",
        "- /\n",
        "- *\n",
        "- % -> (a - (b * (a//b)) or in simple sense remainder\n",
        "- // -> Floored Division\n",
        "- **"
      ],
      "metadata": {
        "id": "8xNkvQZSdjvP"
      }
    },
    {
      "cell_type": "code",
      "source": [
        "5 + 5"
      ],
      "metadata": {
        "colab": {
          "base_uri": "https://localhost:8080/"
        },
        "id": "rcynIvnwb4P4",
        "outputId": "60ab491a-6993-4c97-982c-e8660cfa828c"
      },
      "execution_count": 50,
      "outputs": [
        {
          "output_type": "execute_result",
          "data": {
            "text/plain": [
              "10"
            ]
          },
          "metadata": {},
          "execution_count": 50
        }
      ]
    },
    {
      "cell_type": "code",
      "source": [
        "15 - 5"
      ],
      "metadata": {
        "colab": {
          "base_uri": "https://localhost:8080/"
        },
        "id": "UNqg1QJYdxU0",
        "outputId": "d2b6f9af-f8f2-42ac-c2b9-71b4abdb5fa3"
      },
      "execution_count": 51,
      "outputs": [
        {
          "output_type": "execute_result",
          "data": {
            "text/plain": [
              "10"
            ]
          },
          "metadata": {},
          "execution_count": 51
        }
      ]
    },
    {
      "cell_type": "code",
      "source": [
        "2 * 5"
      ],
      "metadata": {
        "colab": {
          "base_uri": "https://localhost:8080/"
        },
        "id": "-6uwaevKd0wo",
        "outputId": "b76aeda3-07b1-4ae8-d7e8-bcd3809ef47f"
      },
      "execution_count": 52,
      "outputs": [
        {
          "output_type": "execute_result",
          "data": {
            "text/plain": [
              "10"
            ]
          },
          "metadata": {},
          "execution_count": 52
        }
      ]
    },
    {
      "cell_type": "code",
      "source": [
        "20 / 2"
      ],
      "metadata": {
        "colab": {
          "base_uri": "https://localhost:8080/"
        },
        "id": "JoMbB0yqd3AY",
        "outputId": "d96abe30-2460-4105-fa05-46e31c375c20"
      },
      "execution_count": 53,
      "outputs": [
        {
          "output_type": "execute_result",
          "data": {
            "text/plain": [
              "10.0"
            ]
          },
          "metadata": {},
          "execution_count": 53
        }
      ]
    },
    {
      "cell_type": "code",
      "source": [
        "20 // 2"
      ],
      "metadata": {
        "colab": {
          "base_uri": "https://localhost:8080/"
        },
        "id": "CSe1zBtxd-iy",
        "outputId": "e100062a-8205-472f-b35b-9346bf95dc68"
      },
      "execution_count": 54,
      "outputs": [
        {
          "output_type": "execute_result",
          "data": {
            "text/plain": [
              "10"
            ]
          },
          "metadata": {},
          "execution_count": 54
        }
      ]
    },
    {
      "cell_type": "code",
      "source": [
        "10 // 3"
      ],
      "metadata": {
        "colab": {
          "base_uri": "https://localhost:8080/"
        },
        "id": "vl6bv42leKN7",
        "outputId": "efc3de0a-07b7-4afd-fbc0-6ae213db3898"
      },
      "execution_count": 55,
      "outputs": [
        {
          "output_type": "execute_result",
          "data": {
            "text/plain": [
              "3"
            ]
          },
          "metadata": {},
          "execution_count": 55
        }
      ]
    },
    {
      "cell_type": "code",
      "source": [
        "-10 / 3"
      ],
      "metadata": {
        "colab": {
          "base_uri": "https://localhost:8080/"
        },
        "id": "t3izPodxefpp",
        "outputId": "7f57cbc7-b01f-4b42-ed23-53d91e84fc34"
      },
      "execution_count": 56,
      "outputs": [
        {
          "output_type": "execute_result",
          "data": {
            "text/plain": [
              "-3.3333333333333335"
            ]
          },
          "metadata": {},
          "execution_count": 56
        }
      ]
    },
    {
      "cell_type": "code",
      "source": [
        "-10 // 3"
      ],
      "metadata": {
        "colab": {
          "base_uri": "https://localhost:8080/"
        },
        "id": "_WIDTBnceVo9",
        "outputId": "16641d01-1615-4410-8713-0e7e29428004"
      },
      "execution_count": 57,
      "outputs": [
        {
          "output_type": "execute_result",
          "data": {
            "text/plain": [
              "-4"
            ]
          },
          "metadata": {},
          "execution_count": 57
        }
      ]
    },
    {
      "cell_type": "code",
      "source": [
        "10 % 3"
      ],
      "metadata": {
        "colab": {
          "base_uri": "https://localhost:8080/"
        },
        "id": "gmTC8j0PfCka",
        "outputId": "8a09727b-855a-485d-8742-1b3c57152899"
      },
      "execution_count": 58,
      "outputs": [
        {
          "output_type": "execute_result",
          "data": {
            "text/plain": [
              "1"
            ]
          },
          "metadata": {},
          "execution_count": 58
        }
      ]
    },
    {
      "cell_type": "code",
      "source": [
        "2 ** 5"
      ],
      "metadata": {
        "colab": {
          "base_uri": "https://localhost:8080/"
        },
        "id": "w-GjSnTPfMI-",
        "outputId": "ae39c435-490e-4ada-d3ff-259d774155ca"
      },
      "execution_count": 59,
      "outputs": [
        {
          "output_type": "execute_result",
          "data": {
            "text/plain": [
              "32"
            ]
          },
          "metadata": {},
          "execution_count": 59
        }
      ]
    },
    {
      "cell_type": "code",
      "source": [
        "\"hello\" + \" \" + \"world\""
      ],
      "metadata": {
        "colab": {
          "base_uri": "https://localhost:8080/",
          "height": 35
        },
        "id": "nwhHqijMfn1c",
        "outputId": "44fd4acc-e491-47ed-966c-999651e5a873"
      },
      "execution_count": 60,
      "outputs": [
        {
          "output_type": "execute_result",
          "data": {
            "text/plain": [
              "'helloworld'"
            ],
            "application/vnd.google.colaboratory.intrinsic+json": {
              "type": "string"
            }
          },
          "metadata": {},
          "execution_count": 60
        }
      ]
    },
    {
      "cell_type": "code",
      "source": [
        "\"abc\" * 4"
      ],
      "metadata": {
        "colab": {
          "base_uri": "https://localhost:8080/",
          "height": 35
        },
        "id": "G4vFNk5EgCIP",
        "outputId": "c07c6da0-3b25-4363-a11f-58e5fb4102fa"
      },
      "execution_count": 61,
      "outputs": [
        {
          "output_type": "execute_result",
          "data": {
            "text/plain": [
              "'abcabcabcabc'"
            ],
            "application/vnd.google.colaboratory.intrinsic+json": {
              "type": "string"
            }
          },
          "metadata": {},
          "execution_count": 61
        }
      ]
    },
    {
      "cell_type": "code",
      "source": [
        "\"abc\" + 4"
      ],
      "metadata": {
        "colab": {
          "base_uri": "https://localhost:8080/",
          "height": 169
        },
        "id": "AaMV7y-bgQR7",
        "outputId": "4cf15ccb-e1a2-42ad-96d6-4eacaa9f2e64"
      },
      "execution_count": 62,
      "outputs": [
        {
          "output_type": "error",
          "ename": "TypeError",
          "evalue": "ignored",
          "traceback": [
            "\u001b[0;31m---------------------------------------------------------------------------\u001b[0m",
            "\u001b[0;31mTypeError\u001b[0m                                 Traceback (most recent call last)",
            "\u001b[0;32m<ipython-input-62-e96236b2ce40>\u001b[0m in \u001b[0;36m<module>\u001b[0;34m\u001b[0m\n\u001b[0;32m----> 1\u001b[0;31m \u001b[0;34m\"abc\"\u001b[0m \u001b[0;34m+\u001b[0m \u001b[0;36m4\u001b[0m\u001b[0;34m\u001b[0m\u001b[0;34m\u001b[0m\u001b[0m\n\u001b[0m",
            "\u001b[0;31mTypeError\u001b[0m: can only concatenate str (not \"int\") to str"
          ]
        }
      ]
    },
    {
      "cell_type": "code",
      "source": [
        "\"abc\"/2"
      ],
      "metadata": {
        "colab": {
          "base_uri": "https://localhost:8080/",
          "height": 169
        },
        "id": "UbwoAlkpgdXC",
        "outputId": "b9110d01-111d-45f4-925a-a30c9b50e004"
      },
      "execution_count": 63,
      "outputs": [
        {
          "output_type": "error",
          "ename": "TypeError",
          "evalue": "ignored",
          "traceback": [
            "\u001b[0;31m---------------------------------------------------------------------------\u001b[0m",
            "\u001b[0;31mTypeError\u001b[0m                                 Traceback (most recent call last)",
            "\u001b[0;32m<ipython-input-63-1adbf132bce7>\u001b[0m in \u001b[0;36m<module>\u001b[0;34m\u001b[0m\n\u001b[0;32m----> 1\u001b[0;31m \u001b[0;34m\"abc\"\u001b[0m\u001b[0;34m/\u001b[0m\u001b[0;36m2\u001b[0m\u001b[0;34m\u001b[0m\u001b[0;34m\u001b[0m\u001b[0m\n\u001b[0m",
            "\u001b[0;31mTypeError\u001b[0m: unsupported operand type(s) for /: 'str' and 'int'"
          ]
        }
      ]
    },
    {
      "cell_type": "markdown",
      "source": [
        "Comparison Operators\n",
        "- <: less than\n",
        "- `>`: greater than\n",
        "- <=: less than equal to\n",
        "- `>=`: greater than equal to\n",
        "- ==: equal to\n",
        "- !=: not equal to"
      ],
      "metadata": {
        "id": "xkK2pKwRg2f1"
      }
    },
    {
      "cell_type": "code",
      "source": [
        "5 < 6"
      ],
      "metadata": {
        "colab": {
          "base_uri": "https://localhost:8080/"
        },
        "id": "ZUu1ZpxdgwUB",
        "outputId": "e399585a-3536-4c3e-e2dc-17f6d9cf48cd"
      },
      "execution_count": 64,
      "outputs": [
        {
          "output_type": "execute_result",
          "data": {
            "text/plain": [
              "True"
            ]
          },
          "metadata": {},
          "execution_count": 64
        }
      ]
    },
    {
      "cell_type": "code",
      "source": [
        "6 > 5"
      ],
      "metadata": {
        "colab": {
          "base_uri": "https://localhost:8080/"
        },
        "id": "X4RBfjUOhV52",
        "outputId": "8c3b33d7-71c8-4b8e-acf6-775cc76f6d28"
      },
      "execution_count": 65,
      "outputs": [
        {
          "output_type": "execute_result",
          "data": {
            "text/plain": [
              "True"
            ]
          },
          "metadata": {},
          "execution_count": 65
        }
      ]
    },
    {
      "cell_type": "code",
      "source": [
        "5 < 5 "
      ],
      "metadata": {
        "colab": {
          "base_uri": "https://localhost:8080/"
        },
        "id": "exA4GLcchXwl",
        "outputId": "d8cdfbd6-89fa-4fb4-cbac-932ddd618f58"
      },
      "execution_count": 66,
      "outputs": [
        {
          "output_type": "execute_result",
          "data": {
            "text/plain": [
              "False"
            ]
          },
          "metadata": {},
          "execution_count": 66
        }
      ]
    },
    {
      "cell_type": "code",
      "source": [
        "5 <= 5"
      ],
      "metadata": {
        "colab": {
          "base_uri": "https://localhost:8080/"
        },
        "id": "DkocGIifhb2m",
        "outputId": "6be62568-dbfb-40f5-947f-41f6b207467d"
      },
      "execution_count": 67,
      "outputs": [
        {
          "output_type": "execute_result",
          "data": {
            "text/plain": [
              "True"
            ]
          },
          "metadata": {},
          "execution_count": 67
        }
      ]
    },
    {
      "cell_type": "code",
      "source": [
        "6 >= 1"
      ],
      "metadata": {
        "colab": {
          "base_uri": "https://localhost:8080/"
        },
        "id": "x9086bgQheY-",
        "outputId": "7b3e3f2d-2f69-4177-973a-be07532ca751"
      },
      "execution_count": 68,
      "outputs": [
        {
          "output_type": "execute_result",
          "data": {
            "text/plain": [
              "True"
            ]
          },
          "metadata": {},
          "execution_count": 68
        }
      ]
    },
    {
      "cell_type": "code",
      "source": [
        "6 >= 6"
      ],
      "metadata": {
        "colab": {
          "base_uri": "https://localhost:8080/"
        },
        "id": "UEFusE-chgnZ",
        "outputId": "2214408b-b363-4b51-e18c-e16791dbea00"
      },
      "execution_count": 69,
      "outputs": [
        {
          "output_type": "execute_result",
          "data": {
            "text/plain": [
              "True"
            ]
          },
          "metadata": {},
          "execution_count": 69
        }
      ]
    },
    {
      "cell_type": "code",
      "source": [
        "5 == 5"
      ],
      "metadata": {
        "colab": {
          "base_uri": "https://localhost:8080/"
        },
        "id": "8owA_Seshisq",
        "outputId": "b8a161b4-4a22-489f-c075-f5332dd50035"
      },
      "execution_count": 70,
      "outputs": [
        {
          "output_type": "execute_result",
          "data": {
            "text/plain": [
              "True"
            ]
          },
          "metadata": {},
          "execution_count": 70
        }
      ]
    },
    {
      "cell_type": "code",
      "source": [
        "4 != 5"
      ],
      "metadata": {
        "colab": {
          "base_uri": "https://localhost:8080/"
        },
        "id": "TkMDK5MJhloF",
        "outputId": "74ffad76-6407-4c0f-e249-6bcc9b2d7413"
      },
      "execution_count": 71,
      "outputs": [
        {
          "output_type": "execute_result",
          "data": {
            "text/plain": [
              "True"
            ]
          },
          "metadata": {},
          "execution_count": 71
        }
      ]
    },
    {
      "cell_type": "markdown",
      "source": [
        "Strings follow lexicographical ordering"
      ],
      "metadata": {
        "id": "wjAElFJmjZpk"
      }
    },
    {
      "cell_type": "code",
      "source": [
        "\"z\" < \"abc\""
      ],
      "metadata": {
        "colab": {
          "base_uri": "https://localhost:8080/"
        },
        "id": "KRxwWyOjhm09",
        "outputId": "d77d2f1f-1c86-4260-e63e-ae2f86dbd55d"
      },
      "execution_count": 72,
      "outputs": [
        {
          "output_type": "execute_result",
          "data": {
            "text/plain": [
              "False"
            ]
          },
          "metadata": {},
          "execution_count": 72
        }
      ]
    },
    {
      "cell_type": "code",
      "source": [
        "\"A\" < \"a\""
      ],
      "metadata": {
        "colab": {
          "base_uri": "https://localhost:8080/"
        },
        "id": "7fz1vx-2hxcN",
        "outputId": "bc764a11-6f3d-4ecf-a849-fce89a629037"
      },
      "execution_count": 73,
      "outputs": [
        {
          "output_type": "execute_result",
          "data": {
            "text/plain": [
              "True"
            ]
          },
          "metadata": {},
          "execution_count": 73
        }
      ]
    },
    {
      "cell_type": "code",
      "source": [
        "\"aKASH\" < \"Akash\""
      ],
      "metadata": {
        "colab": {
          "base_uri": "https://localhost:8080/"
        },
        "id": "EPQUSS4fiAG9",
        "outputId": "892d38c2-32b9-44c3-ad14-8742d5503a28"
      },
      "execution_count": 74,
      "outputs": [
        {
          "output_type": "execute_result",
          "data": {
            "text/plain": [
              "False"
            ]
          },
          "metadata": {},
          "execution_count": 74
        }
      ]
    },
    {
      "cell_type": "code",
      "source": [
        "ord(\"1\") # 1 in ascii is 49"
      ],
      "metadata": {
        "colab": {
          "base_uri": "https://localhost:8080/"
        },
        "id": "a1tvl9Idi761",
        "outputId": "4a28cacc-5740-4877-e5b2-930c28fed05c"
      },
      "execution_count": 75,
      "outputs": [
        {
          "output_type": "execute_result",
          "data": {
            "text/plain": [
              "49"
            ]
          },
          "metadata": {},
          "execution_count": 75
        }
      ]
    },
    {
      "cell_type": "code",
      "source": [
        "\"1kash\" < \"Akash\""
      ],
      "metadata": {
        "colab": {
          "base_uri": "https://localhost:8080/"
        },
        "id": "LoBtX9lBjDal",
        "outputId": "d5311ac4-e666-4b14-df91-166e75abc144"
      },
      "execution_count": 76,
      "outputs": [
        {
          "output_type": "execute_result",
          "data": {
            "text/plain": [
              "True"
            ]
          },
          "metadata": {},
          "execution_count": 76
        }
      ]
    },
    {
      "cell_type": "code",
      "source": [
        "\"abc\" < \"abcd\""
      ],
      "metadata": {
        "colab": {
          "base_uri": "https://localhost:8080/"
        },
        "id": "kk1mA0EajMGz",
        "outputId": "d97f864d-e533-4f6e-bf3d-b8037e60ab5f"
      },
      "execution_count": 77,
      "outputs": [
        {
          "output_type": "execute_result",
          "data": {
            "text/plain": [
              "True"
            ]
          },
          "metadata": {},
          "execution_count": 77
        }
      ]
    },
    {
      "cell_type": "markdown",
      "source": [
        "Assignment operators\n",
        "- =\n",
        "- +=\n",
        "- *=\n",
        "- /=\n",
        "......"
      ],
      "metadata": {
        "id": "Fv8w2KK6jua7"
      }
    },
    {
      "cell_type": "code",
      "source": [
        "a = 5"
      ],
      "metadata": {
        "id": "U6sWZZDTjihm"
      },
      "execution_count": 78,
      "outputs": []
    },
    {
      "cell_type": "code",
      "source": [
        "a += 5"
      ],
      "metadata": {
        "id": "UxSq7Bcuj6Kx"
      },
      "execution_count": 79,
      "outputs": []
    },
    {
      "cell_type": "code",
      "source": [
        "print(a)"
      ],
      "metadata": {
        "colab": {
          "base_uri": "https://localhost:8080/"
        },
        "id": "0K_35XxGkEQp",
        "outputId": "04678359-7574-4f5a-8b9e-329694ba20a4"
      },
      "execution_count": 80,
      "outputs": [
        {
          "output_type": "stream",
          "name": "stdout",
          "text": [
            "10\n"
          ]
        }
      ]
    },
    {
      "cell_type": "code",
      "source": [
        "a *= 2"
      ],
      "metadata": {
        "id": "SK8lY5mrkEw5"
      },
      "execution_count": 81,
      "outputs": []
    },
    {
      "cell_type": "code",
      "source": [
        "print(a)"
      ],
      "metadata": {
        "colab": {
          "base_uri": "https://localhost:8080/"
        },
        "id": "TTHb8nMJkIO7",
        "outputId": "136d6f85-7a95-4658-bea3-6b259a6c18a4"
      },
      "execution_count": 82,
      "outputs": [
        {
          "output_type": "stream",
          "name": "stdout",
          "text": [
            "20\n"
          ]
        }
      ]
    },
    {
      "cell_type": "code",
      "source": [
        "a //= 2"
      ],
      "metadata": {
        "id": "DOrQaCSwkIkA"
      },
      "execution_count": 83,
      "outputs": []
    },
    {
      "cell_type": "code",
      "source": [
        "print(a)"
      ],
      "metadata": {
        "colab": {
          "base_uri": "https://localhost:8080/"
        },
        "id": "Gk_s8L9HkKj2",
        "outputId": "d4acab82-c82d-4d5c-a32c-9feecd3a506c"
      },
      "execution_count": 84,
      "outputs": [
        {
          "output_type": "stream",
          "name": "stdout",
          "text": [
            "10\n"
          ]
        }
      ]
    },
    {
      "cell_type": "markdown",
      "source": [
        "Logical Operators (and , or, not)"
      ],
      "metadata": {
        "id": "6QoSXsGskYNS"
      }
    },
    {
      "cell_type": "code",
      "source": [
        "True and False"
      ],
      "metadata": {
        "colab": {
          "base_uri": "https://localhost:8080/"
        },
        "id": "5q1D_JZIkLFF",
        "outputId": "8f70f127-028b-4803-e5bb-b30111e01e76"
      },
      "execution_count": 85,
      "outputs": [
        {
          "output_type": "execute_result",
          "data": {
            "text/plain": [
              "False"
            ]
          },
          "metadata": {},
          "execution_count": 85
        }
      ]
    },
    {
      "cell_type": "code",
      "source": [
        "False or True"
      ],
      "metadata": {
        "colab": {
          "base_uri": "https://localhost:8080/"
        },
        "id": "esWNO2jslhlO",
        "outputId": "ee4ffddc-0453-479d-ca07-295a2088d199"
      },
      "execution_count": 86,
      "outputs": [
        {
          "output_type": "execute_result",
          "data": {
            "text/plain": [
              "True"
            ]
          },
          "metadata": {},
          "execution_count": 86
        }
      ]
    },
    {
      "cell_type": "code",
      "source": [
        "True or 0"
      ],
      "metadata": {
        "colab": {
          "base_uri": "https://localhost:8080/"
        },
        "id": "lM1wtZi-llry",
        "outputId": "0868250e-c6ec-417d-b1e8-a2accc1d3756"
      },
      "execution_count": 87,
      "outputs": [
        {
          "output_type": "execute_result",
          "data": {
            "text/plain": [
              "True"
            ]
          },
          "metadata": {},
          "execution_count": 87
        }
      ]
    },
    {
      "cell_type": "code",
      "source": [
        "0 and True"
      ],
      "metadata": {
        "colab": {
          "base_uri": "https://localhost:8080/"
        },
        "id": "7s1YWVYslqvh",
        "outputId": "1e8efb06-e7b2-41c8-9fc0-9683a7ebe9fe"
      },
      "execution_count": 88,
      "outputs": [
        {
          "output_type": "execute_result",
          "data": {
            "text/plain": [
              "0"
            ]
          },
          "metadata": {},
          "execution_count": 88
        }
      ]
    },
    {
      "cell_type": "code",
      "source": [
        "5 or 0 "
      ],
      "metadata": {
        "colab": {
          "base_uri": "https://localhost:8080/"
        },
        "id": "uZ_TQjaCluzB",
        "outputId": "4e9f93b8-c931-4df5-f4af-e0b3dcfec93c"
      },
      "execution_count": 89,
      "outputs": [
        {
          "output_type": "execute_result",
          "data": {
            "text/plain": [
              "5"
            ]
          },
          "metadata": {},
          "execution_count": 89
        }
      ]
    },
    {
      "cell_type": "code",
      "source": [
        "1 and 7"
      ],
      "metadata": {
        "colab": {
          "base_uri": "https://localhost:8080/"
        },
        "id": "SOHPDGVJl22s",
        "outputId": "fbdcf761-2a99-4481-95fd-aa1c4dcbf418"
      },
      "execution_count": 90,
      "outputs": [
        {
          "output_type": "execute_result",
          "data": {
            "text/plain": [
              "7"
            ]
          },
          "metadata": {},
          "execution_count": 90
        }
      ]
    },
    {
      "cell_type": "code",
      "source": [
        "isinstance(True, int)"
      ],
      "metadata": {
        "colab": {
          "base_uri": "https://localhost:8080/"
        },
        "id": "5BbXJTb1l6HH",
        "outputId": "086500ef-e52e-44f2-864f-54b9f3e666af"
      },
      "execution_count": 91,
      "outputs": [
        {
          "output_type": "execute_result",
          "data": {
            "text/plain": [
              "True"
            ]
          },
          "metadata": {},
          "execution_count": 91
        }
      ]
    },
    {
      "cell_type": "code",
      "source": [
        "5 + True"
      ],
      "metadata": {
        "colab": {
          "base_uri": "https://localhost:8080/"
        },
        "id": "HDU1ZZq6nFMA",
        "outputId": "4fc1caae-0c2e-4502-b7e1-c49d1d3b550c"
      },
      "execution_count": 92,
      "outputs": [
        {
          "output_type": "execute_result",
          "data": {
            "text/plain": [
              "6"
            ]
          },
          "metadata": {},
          "execution_count": 92
        }
      ]
    },
    {
      "cell_type": "markdown",
      "source": [
        "Truthy Values -> The value when converted/casted/coerced to boolean returns True\n",
        "\n",
        "Falsy Values -> The value when converted/casted/coerced to boolean returns False"
      ],
      "metadata": {
        "id": "V5DvZ1USn5Af"
      }
    },
    {
      "cell_type": "code",
      "source": [
        "bool(\"\")"
      ],
      "metadata": {
        "colab": {
          "base_uri": "https://localhost:8080/"
        },
        "id": "lfTaKHvxnJoj",
        "outputId": "6443362d-11ec-41ab-ccec-3e3961a4ee1a"
      },
      "execution_count": 93,
      "outputs": [
        {
          "output_type": "execute_result",
          "data": {
            "text/plain": [
              "False"
            ]
          },
          "metadata": {},
          "execution_count": 93
        }
      ]
    },
    {
      "cell_type": "code",
      "source": [
        "bool(0 + 0j)"
      ],
      "metadata": {
        "colab": {
          "base_uri": "https://localhost:8080/"
        },
        "id": "AE6wwzbmoOGT",
        "outputId": "3019e96f-de04-4fb1-930e-79b1089fffcb"
      },
      "execution_count": 94,
      "outputs": [
        {
          "output_type": "execute_result",
          "data": {
            "text/plain": [
              "False"
            ]
          },
          "metadata": {},
          "execution_count": 94
        }
      ]
    },
    {
      "cell_type": "code",
      "source": [
        "bool(5)"
      ],
      "metadata": {
        "colab": {
          "base_uri": "https://localhost:8080/"
        },
        "id": "0p4zZpRuoP1Z",
        "outputId": "1c57bd8a-6030-441b-9cb1-ba4afe4e9323"
      },
      "execution_count": 95,
      "outputs": [
        {
          "output_type": "execute_result",
          "data": {
            "text/plain": [
              "True"
            ]
          },
          "metadata": {},
          "execution_count": 95
        }
      ]
    },
    {
      "cell_type": "code",
      "source": [
        "bool(\"None\")"
      ],
      "metadata": {
        "colab": {
          "base_uri": "https://localhost:8080/"
        },
        "id": "Lu2IieoaoSqk",
        "outputId": "f86d3a75-e6e9-4211-a5ce-2481b98fbd1b"
      },
      "execution_count": 96,
      "outputs": [
        {
          "output_type": "execute_result",
          "data": {
            "text/plain": [
              "True"
            ]
          },
          "metadata": {},
          "execution_count": 96
        }
      ]
    },
    {
      "cell_type": "code",
      "source": [
        "bool(None)"
      ],
      "metadata": {
        "colab": {
          "base_uri": "https://localhost:8080/"
        },
        "id": "Tm-uSTmHoqr6",
        "outputId": "277ef1d4-0c3f-44bf-97b6-0630c8ad9db7"
      },
      "execution_count": 97,
      "outputs": [
        {
          "output_type": "execute_result",
          "data": {
            "text/plain": [
              "False"
            ]
          },
          "metadata": {},
          "execution_count": 97
        }
      ]
    },
    {
      "cell_type": "code",
      "source": [
        "\"jatin\" and 6"
      ],
      "metadata": {
        "colab": {
          "base_uri": "https://localhost:8080/"
        },
        "id": "I71Uv-udorb5",
        "outputId": "131f1e7b-4b70-4700-fb04-0d0fe641525b"
      },
      "execution_count": 98,
      "outputs": [
        {
          "output_type": "execute_result",
          "data": {
            "text/plain": [
              "6"
            ]
          },
          "metadata": {},
          "execution_count": 98
        }
      ]
    },
    {
      "cell_type": "code",
      "source": [
        "1 and 7"
      ],
      "metadata": {
        "colab": {
          "base_uri": "https://localhost:8080/"
        },
        "id": "IJ4bM2QDpLnh",
        "outputId": "b4e1ac63-d678-4a5c-c175-493e9713cabe"
      },
      "execution_count": 99,
      "outputs": [
        {
          "output_type": "execute_result",
          "data": {
            "text/plain": [
              "7"
            ]
          },
          "metadata": {},
          "execution_count": 99
        }
      ]
    },
    {
      "cell_type": "code",
      "source": [
        "7 and 1"
      ],
      "metadata": {
        "colab": {
          "base_uri": "https://localhost:8080/"
        },
        "id": "aKSYbOMZpV9f",
        "outputId": "a6b3c293-06af-49e2-9e3e-607fc0fbcc1e"
      },
      "execution_count": 100,
      "outputs": [
        {
          "output_type": "execute_result",
          "data": {
            "text/plain": [
              "1"
            ]
          },
          "metadata": {},
          "execution_count": 100
        }
      ]
    },
    {
      "cell_type": "code",
      "source": [
        "7 and 0"
      ],
      "metadata": {
        "colab": {
          "base_uri": "https://localhost:8080/"
        },
        "id": "j5-ZEZB3pafw",
        "outputId": "c5aaf6fb-7d6b-4d9e-fd65-3af71567ffeb"
      },
      "execution_count": 101,
      "outputs": [
        {
          "output_type": "execute_result",
          "data": {
            "text/plain": [
              "0"
            ]
          },
          "metadata": {},
          "execution_count": 101
        }
      ]
    },
    {
      "cell_type": "code",
      "source": [
        "0 and 7"
      ],
      "metadata": {
        "colab": {
          "base_uri": "https://localhost:8080/"
        },
        "id": "M_b8ftxJpjFO",
        "outputId": "eaf48964-1b2b-4671-dbb8-5b079d4a3328"
      },
      "execution_count": 102,
      "outputs": [
        {
          "output_type": "execute_result",
          "data": {
            "text/plain": [
              "0"
            ]
          },
          "metadata": {},
          "execution_count": 102
        }
      ]
    },
    {
      "cell_type": "code",
      "source": [
        "a = 3456787654323456787654323456787654"
      ],
      "metadata": {
        "id": "HFfiGVNKpj2J"
      },
      "execution_count": null,
      "outputs": []
    },
    {
      "cell_type": "code",
      "source": [
        "isinstance(\"scaler\", object)"
      ],
      "metadata": {
        "colab": {
          "base_uri": "https://localhost:8080/"
        },
        "id": "9I2e6Os1rbCn",
        "outputId": "b763258d-da86-461e-d211-2608996d7b8d"
      },
      "execution_count": 104,
      "outputs": [
        {
          "output_type": "execute_result",
          "data": {
            "text/plain": [
              "True"
            ]
          },
          "metadata": {},
          "execution_count": 104
        }
      ]
    },
    {
      "cell_type": "code",
      "source": [
        "isinstance(1, object)"
      ],
      "metadata": {
        "colab": {
          "base_uri": "https://localhost:8080/"
        },
        "id": "stEZM4eercmu",
        "outputId": "853edabf-f983-4af8-a6e6-ce0dcb0f4026"
      },
      "execution_count": 105,
      "outputs": [
        {
          "output_type": "execute_result",
          "data": {
            "text/plain": [
              "True"
            ]
          },
          "metadata": {},
          "execution_count": 105
        }
      ]
    },
    {
      "cell_type": "code",
      "source": [
        "isinstance(5j, object)"
      ],
      "metadata": {
        "colab": {
          "base_uri": "https://localhost:8080/"
        },
        "id": "IZtjDaSKrfBw",
        "outputId": "4fca8d9c-b255-462d-f760-b2c404b4877f"
      },
      "execution_count": 106,
      "outputs": [
        {
          "output_type": "execute_result",
          "data": {
            "text/plain": [
              "True"
            ]
          },
          "metadata": {},
          "execution_count": 106
        }
      ]
    },
    {
      "cell_type": "code",
      "source": [
        "0.000123 * 0.0000000000000000023"
      ],
      "metadata": {
        "colab": {
          "base_uri": "https://localhost:8080/"
        },
        "id": "e3AuB9YQrgZb",
        "outputId": "4dedad49-cea0-4212-d618-9a84273b4760"
      },
      "execution_count": 113,
      "outputs": [
        {
          "output_type": "execute_result",
          "data": {
            "text/plain": [
              "2.8290000000000004e-22"
            ]
          },
          "metadata": {},
          "execution_count": 113
        }
      ]
    },
    {
      "cell_type": "code",
      "source": [
        "a = 5"
      ],
      "metadata": {
        "id": "cVuggBUCsL6o"
      },
      "execution_count": 114,
      "outputs": []
    },
    {
      "cell_type": "code",
      "source": [
        "a = \"scaler\""
      ],
      "metadata": {
        "id": "JNZMVnuPs0Gp"
      },
      "execution_count": 115,
      "outputs": []
    },
    {
      "cell_type": "code",
      "source": [
        "int(5.5)"
      ],
      "metadata": {
        "colab": {
          "base_uri": "https://localhost:8080/"
        },
        "id": "rrioGx8ks3dZ",
        "outputId": "ea214334-eed3-4bc7-ff7f-7efec88e1b7e"
      },
      "execution_count": 116,
      "outputs": [
        {
          "output_type": "execute_result",
          "data": {
            "text/plain": [
              "5"
            ]
          },
          "metadata": {},
          "execution_count": 116
        }
      ]
    },
    {
      "cell_type": "code",
      "source": [
        "float(1)"
      ],
      "metadata": {
        "colab": {
          "base_uri": "https://localhost:8080/"
        },
        "id": "99fFkqBGs_WJ",
        "outputId": "b8d37e33-6f63-4792-8f29-784e231dffd2"
      },
      "execution_count": 117,
      "outputs": [
        {
          "output_type": "execute_result",
          "data": {
            "text/plain": [
              "1.0"
            ]
          },
          "metadata": {},
          "execution_count": 117
        }
      ]
    },
    {
      "cell_type": "code",
      "source": [
        "str(1)"
      ],
      "metadata": {
        "colab": {
          "base_uri": "https://localhost:8080/",
          "height": 35
        },
        "id": "JoX9D4d0tBU0",
        "outputId": "04a41900-37c7-48c7-c98c-911366f983ef"
      },
      "execution_count": 118,
      "outputs": [
        {
          "output_type": "execute_result",
          "data": {
            "text/plain": [
              "'1'"
            ],
            "application/vnd.google.colaboratory.intrinsic+json": {
              "type": "string"
            }
          },
          "metadata": {},
          "execution_count": 118
        }
      ]
    },
    {
      "cell_type": "code",
      "source": [
        "a = {\n",
        "    5.0: \"python\",\n",
        "    5: \"ruby\",\n",
        "    (10/2): \"something\"\n",
        "}"
      ],
      "metadata": {
        "id": "13N3TugPtDMF"
      },
      "execution_count": 128,
      "outputs": []
    },
    {
      "cell_type": "code",
      "source": [
        "len(a)"
      ],
      "metadata": {
        "colab": {
          "base_uri": "https://localhost:8080/"
        },
        "id": "nzbg7Gv1tm40",
        "outputId": "f1c0c414-0a16-44ff-fbbe-fe4ab957b125"
      },
      "execution_count": 120,
      "outputs": [
        {
          "output_type": "execute_result",
          "data": {
            "text/plain": [
              "1"
            ]
          },
          "metadata": {},
          "execution_count": 120
        }
      ]
    },
    {
      "cell_type": "code",
      "source": [
        "a"
      ],
      "metadata": {
        "colab": {
          "base_uri": "https://localhost:8080/"
        },
        "id": "_4psOyTatsPk",
        "outputId": "5ce58bb6-8478-4563-c616-0a921e41b8bc"
      },
      "execution_count": 129,
      "outputs": [
        {
          "output_type": "execute_result",
          "data": {
            "text/plain": [
              "{5.0: 'something'}"
            ]
          },
          "metadata": {},
          "execution_count": 129
        }
      ]
    },
    {
      "cell_type": "code",
      "source": [
        "a = {\n",
        "    \"name\": \"jatin\",\n",
        "     \"name\": \"vineet\"\n",
        "}"
      ],
      "metadata": {
        "id": "0fHIn9vAttSh"
      },
      "execution_count": 122,
      "outputs": []
    },
    {
      "cell_type": "code",
      "source": [
        "a"
      ],
      "metadata": {
        "colab": {
          "base_uri": "https://localhost:8080/"
        },
        "id": "BJOuVWQduAXU",
        "outputId": "d641b957-baab-4d1b-ab16-5d5855a0e9a8"
      },
      "execution_count": 123,
      "outputs": [
        {
          "output_type": "execute_result",
          "data": {
            "text/plain": [
              "{'name': 'vineet'}"
            ]
          },
          "metadata": {},
          "execution_count": 123
        }
      ]
    },
    {
      "cell_type": "code",
      "source": [
        "budget=float(input()) \n",
        "exchange_value=float(input()) \n",
        "print(budget//exchange_value)"
      ],
      "metadata": {
        "colab": {
          "base_uri": "https://localhost:8080/"
        },
        "id": "oc2W8cOpuBAA",
        "outputId": "4e61d843-9b62-4041-f964-2366e46c5eb4"
      },
      "execution_count": 125,
      "outputs": [
        {
          "output_type": "stream",
          "name": "stdout",
          "text": [
            "10.5\n",
            "1.5\n",
            "7.0\n"
          ]
        }
      ]
    },
    {
      "cell_type": "code",
      "source": [
        "10.0 // 3.0"
      ],
      "metadata": {
        "colab": {
          "base_uri": "https://localhost:8080/"
        },
        "id": "HGy_BOrGuOVU",
        "outputId": "38c51e2d-d0aa-44c0-cb7d-6b9776b45c3b"
      },
      "execution_count": 126,
      "outputs": [
        {
          "output_type": "execute_result",
          "data": {
            "text/plain": [
              "3.0"
            ]
          },
          "metadata": {},
          "execution_count": 126
        }
      ]
    },
    {
      "cell_type": "code",
      "source": [
        "10 // 3.0"
      ],
      "metadata": {
        "colab": {
          "base_uri": "https://localhost:8080/"
        },
        "id": "OEgk4deLubZy",
        "outputId": "55ba465e-295e-499c-f364-4d3be122388a"
      },
      "execution_count": 127,
      "outputs": [
        {
          "output_type": "execute_result",
          "data": {
            "text/plain": [
              "3.0"
            ]
          },
          "metadata": {},
          "execution_count": 127
        }
      ]
    },
    {
      "cell_type": "code",
      "source": [],
      "metadata": {
        "id": "zhmLnDgXu8-C"
      },
      "execution_count": null,
      "outputs": []
    },
    {
      "cell_type": "markdown",
      "source": [
        "## Precedence and Associativity of operators\n",
        "\n",
        "![op-precedence.png](data:image/png;base64,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)"
      ],
      "metadata": {
        "id": "BOs-BVtsx2Ni"
      }
    },
    {
      "cell_type": "code",
      "source": [],
      "metadata": {
        "id": "Zu3p9FnWx6BO"
      },
      "execution_count": null,
      "outputs": []
    }
  ]
}